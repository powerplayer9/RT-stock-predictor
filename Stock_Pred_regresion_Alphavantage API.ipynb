{
 "cells": [
  {
   "cell_type": "code",
   "execution_count": 1,
   "metadata": {},
   "outputs": [],
   "source": [
    "import requests\n",
    "\n",
    "import quandl\n",
    "import numpy as np \n",
    "from sklearn.linear_model import LinearRegression\n",
    "from sklearn.model_selection import train_test_split\n",
    "import matplotlib.pyplot as plt\n",
    "import time"
   ]
  },
  {
   "cell_type": "code",
   "execution_count": 2,
   "metadata": {},
   "outputs": [],
   "source": [
    "API_KEY = 'FX4G796PF7RW3855'\n",
    "TIME = 'TIME_SERIES_DAILY'\n",
    "SYMBOL = 'MSFT'"
   ]
  },
  {
   "cell_type": "code",
   "execution_count": 3,
   "metadata": {},
   "outputs": [
    {
     "name": "stdout",
     "output_type": "stream",
     "text": [
      "Sucess\n"
     ]
    }
   ],
   "source": [
    "r = requests.get('https://www.alphavantage.co/query?function=' + TIME + '&symbol=' + SYMBOL + '&apikey=' + API_KEY)\n",
    "\n",
    "if (r.status_code == 200):\n",
    "    print ('Sucess')\n",
    "    # print (r.json())"
   ]
  },
  {
   "cell_type": "code",
   "execution_count": 4,
   "metadata": {},
   "outputs": [
    {
     "name": "stdout",
     "output_type": "stream",
     "text": [
      "150.3100\n",
      "150.8400\n",
      "148.4600\n",
      "149.6200\n",
      "25720060\n"
     ]
    }
   ],
   "source": [
    "result = r.json()\n",
    "dataForAllDays = result['Time Series (Daily)']\n",
    "dataForSingleDate = dataForAllDays['2019-11-20']\n",
    "print (dataForSingleDate['1. open'])\n",
    "print (dataForSingleDate['2. high'])\n",
    "print (dataForSingleDate['3. low'])\n",
    "print (dataForSingleDate['4. close'])\n",
    "print (dataForSingleDate['5. volume'])"
   ]
  },
  {
   "cell_type": "code",
   "execution_count": 5,
   "metadata": {},
   "outputs": [
    {
     "name": "stdout",
     "output_type": "stream",
     "text": [
      "<class 'dict'>\n",
      "2\n",
      "dict_keys(['Meta Data', 'Time Series (Daily)'])\n"
     ]
    }
   ],
   "source": [
    "print(type(result))\n",
    "print(len(result))\n",
    "print(result.keys())\n"
   ]
  },
  {
   "cell_type": "code",
   "execution_count": 6,
   "metadata": {},
   "outputs": [
    {
     "name": "stdout",
     "output_type": "stream",
     "text": [
      "<class 'dict'>\n",
      "100\n",
      "dict_keys(['2019-11-25', '2019-11-22', '2019-11-21', '2019-11-20', '2019-11-19', '2019-11-18', '2019-11-15', '2019-11-14', '2019-11-13', '2019-11-12', '2019-11-11', '2019-11-08', '2019-11-07', '2019-11-06', '2019-11-05', '2019-11-04', '2019-11-01', '2019-10-31', '2019-10-30', '2019-10-29', '2019-10-28', '2019-10-25', '2019-10-24', '2019-10-23', '2019-10-22', '2019-10-21', '2019-10-18', '2019-10-17', '2019-10-16', '2019-10-15', '2019-10-14', '2019-10-11', '2019-10-10', '2019-10-09', '2019-10-08', '2019-10-07', '2019-10-04', '2019-10-03', '2019-10-02', '2019-10-01', '2019-09-30', '2019-09-27', '2019-09-26', '2019-09-25', '2019-09-24', '2019-09-23', '2019-09-20', '2019-09-19', '2019-09-18', '2019-09-17', '2019-09-16', '2019-09-13', '2019-09-12', '2019-09-11', '2019-09-10', '2019-09-09', '2019-09-06', '2019-09-05', '2019-09-04', '2019-09-03', '2019-08-30', '2019-08-29', '2019-08-28', '2019-08-27', '2019-08-26', '2019-08-23', '2019-08-22', '2019-08-21', '2019-08-20', '2019-08-19', '2019-08-16', '2019-08-15', '2019-08-14', '2019-08-13', '2019-08-12', '2019-08-09', '2019-08-08', '2019-08-07', '2019-08-06', '2019-08-05', '2019-08-02', '2019-08-01', '2019-07-31', '2019-07-30', '2019-07-29', '2019-07-26', '2019-07-25', '2019-07-24', '2019-07-23', '2019-07-22', '2019-07-19', '2019-07-18', '2019-07-17', '2019-07-16', '2019-07-15', '2019-07-12', '2019-07-11', '2019-07-10', '2019-07-09', '2019-07-08'])\n"
     ]
    }
   ],
   "source": [
    "Keys = result.keys()\n",
    "Key = []\n",
    "for val in Keys:\n",
    "    Key.append(val)\n",
    "# print(Key)\n",
    "\n",
    "Date = result.get(Key[1])\n",
    "print(type(Date))\n",
    "print(len(Date))\n",
    "print(Date.keys())"
   ]
  },
  {
   "cell_type": "code",
   "execution_count": 7,
   "metadata": {},
   "outputs": [
    {
     "name": "stdout",
     "output_type": "stream",
     "text": [
      "{'1. open': '136.0000', '2. high': '136.9700', '3. low': '135.8000', '4. close': '136.4600', '5. volume': '19953097'}\n",
      "<class 'dict'>\n",
      "5\n",
      "dict_keys(['1. open', '2. high', '3. low', '4. close', '5. volume'])\n",
      "136.0000\n"
     ]
    }
   ],
   "source": [
    "DKeys = Date.keys()\n",
    "DKey = []\n",
    "for val in DKeys:\n",
    "    DKey.append(val)\n",
    "\n",
    "DKey.reverse()\n",
    "# print(DKey)\n",
    "\n",
    "AData = Date.get(DKey[1])\n",
    "print(AData)\n",
    "print(type(AData))\n",
    "print(len(AData))\n",
    "print(AData.keys())\n",
    "print(AData.get('1. open'))"
   ]
  },
  {
   "cell_type": "code",
   "execution_count": 19,
   "metadata": {},
   "outputs": [],
   "source": [
    "# if not 'Open' in locals():\n",
    "#     print('sa')"
   ]
  },
  {
   "cell_type": "code",
   "execution_count": 33,
   "metadata": {},
   "outputs": [],
   "source": [
    "if not 'Open' in locals():\n",
    "    Open = []\n",
    "    High = []\n",
    "    Low = []\n",
    "    Close = []\n",
    "    Vol = []\n",
    "else:\n",
    "    Open.clear()\n",
    "    High.clear()\n",
    "    Low.clear()\n",
    "    Close.clear()\n",
    "    Vol.clear()\n",
    "\n",
    "for val in DKey:\n",
    "    temp = Date.get(val)\n",
    "    #print(temp)\n",
    "    Open.append(float(temp.get('1. open')))\n",
    "    High.append(float(temp.get('2. high')))\n",
    "    Low.append(float(temp.get('3. low')))\n",
    "    Close.append(float(temp.get('4. close')))\n",
    "    Vol.append(float(temp.get('5. volume')))\n",
    "    \n",
    "# print(Open)\n",
    "    "
   ]
  },
  {
   "cell_type": "code",
   "execution_count": 208,
   "metadata": {},
   "outputs": [],
   "source": [
    "# A variable for predicting 'n' days out into the future\n",
    "forecast_out = 50 #'n=30' days"
   ]
  },
  {
   "cell_type": "code",
   "execution_count": 209,
   "metadata": {},
   "outputs": [
    {
     "name": "stdout",
     "output_type": "stream",
     "text": [
      "<class 'list'>\n",
      "<class 'float'>\n"
     ]
    }
   ],
   "source": [
    "print(type(Open))\n",
    "print(type(Open[1]))\n"
   ]
  },
  {
   "cell_type": "code",
   "execution_count": 210,
   "metadata": {},
   "outputs": [
    {
     "name": "stdout",
     "output_type": "stream",
     "text": [
      "50\n",
      "100\n",
      "50\n",
      "50\n",
      "50\n"
     ]
    }
   ],
   "source": [
    "prClose = Close[forecast_out:]\n",
    "\n",
    "print (len(prClose))\n",
    "print(len(Close))\n",
    "dummy = np.ones(len(prClose), dtype=float)\n",
    "\n",
    "print(len(dummy))\n",
    "# X = np.concatenate((np.array(Close[:-forecast_out]).reshape(-1,1), dummy.reshape(-1,1)), axis = 1)\n",
    "X = np.array(Close[:-forecast_out]).reshape(-1,1)\n",
    "Y = prClose\n",
    "\n",
    "print (len(X))\n",
    "# print(X)\n",
    "print(len(Y))"
   ]
  },
  {
   "cell_type": "code",
   "execution_count": 211,
   "metadata": {},
   "outputs": [],
   "source": [
    "# Split the data into 80% training and 20% testing\n",
    "x_train, x_test, y_train, y_test = train_test_split(X, Y, test_size=0.2)"
   ]
  },
  {
   "cell_type": "code",
   "execution_count": 212,
   "metadata": {},
   "outputs": [
    {
     "data": {
      "text/plain": [
       "LinearRegression(copy_X=True, fit_intercept=True, n_jobs=None, normalize=False)"
      ]
     },
     "execution_count": 212,
     "metadata": {},
     "output_type": "execute_result"
    }
   ],
   "source": [
    "# Create and train the Linear Regression  Model\n",
    "lr = LinearRegression()\n",
    "# Train the model\n",
    "lr.fit(x_train, y_train)"
   ]
  },
  {
   "cell_type": "code",
   "execution_count": 213,
   "metadata": {},
   "outputs": [
    {
     "name": "stdout",
     "output_type": "stream",
     "text": [
      "lr confidence:  -0.3768053919493084\n"
     ]
    }
   ],
   "source": [
    "# Testing Model: Score returns the coefficient of determination R^2 of the prediction. \n",
    "# The best possible score is 1.0\n",
    "lr_confidence = lr.score(x_test, y_test)\n",
    "print(\"lr confidence: \", lr_confidence)"
   ]
  },
  {
   "cell_type": "code",
   "execution_count": 214,
   "metadata": {},
   "outputs": [
    {
     "name": "stdout",
     "output_type": "stream",
     "text": [
      "[151.23]\n",
      "<class 'numpy.float64'>\n",
      "<class 'numpy.ndarray'>\n",
      "(1,)\n",
      "100\n",
      "100\n",
      "150\n"
     ]
    }
   ],
   "source": [
    "# predClose = lr.predict(x_test)\n",
    "predClose = lr.predict(np.array(Close).reshape(-1,1))\n",
    "\n",
    "# cur = X[-forecast_out]\n",
    "cur = np.array(Close[-1]).reshape(1)\n",
    "\n",
    "print(cur)\n",
    "# print(type(predClose[-1]))\n",
    "print(type(predClose[-1]))\n",
    "\n",
    "print(type(cur))\n",
    "print(cur.shape)\n",
    "# print(type(cur2))\n",
    "# print(cur2.shape)\n",
    "\n",
    "print(len(Close))\n",
    "\n",
    "predClose = list(predClose)\n",
    "print(len(predClose))\n",
    "\n",
    "for i in range(forecast_out):\n",
    "    val = lr.predict([cur])\n",
    "    predClose.append(float(val))\n",
    "    cur = val\n",
    "    \n",
    "print(len(predClose))\n",
    "# print(predClose)\n",
    "    "
   ]
  },
  {
   "cell_type": "code",
   "execution_count": 215,
   "metadata": {},
   "outputs": [
    {
     "name": "stdout",
     "output_type": "stream",
     "text": [
      "100\n",
      "[100, 101, 102, 103, 104, 105, 106, 107, 108, 109, 110, 111, 112, 113, 114, 115, 116, 117, 118, 119, 120, 121, 122, 123, 124, 125, 126, 127, 128, 129, 130, 131, 132, 133, 134, 135, 136, 137, 138, 139, 140, 141, 142, 143, 144, 145, 146, 147, 148, 149]\n"
     ]
    }
   ],
   "source": [
    "print(len(Close))\n",
    "h = list(range(0,len(Close)))\n",
    "m = list(range(h[-1]+1,h[-1]+forecast_out+1))\n",
    "print(m)"
   ]
  },
  {
   "cell_type": "code",
   "execution_count": 207,
   "metadata": {},
   "outputs": [
    {
     "data": {
      "text/plain": [
       "<IPython.core.display.Javascript object>"
      ]
     },
     "metadata": {},
     "output_type": "display_data"
    },
    {
     "data": {
      "text/html": [
       "<img src=\"data:image/png;base64,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\" width=\"640\">"
      ],
      "text/plain": [
       "<IPython.core.display.HTML object>"
      ]
     },
     "metadata": {},
     "output_type": "execute_result"
    },
    {
     "data": {
      "text/plain": [
       "[<matplotlib.lines.Line2D at 0x14045bfe278>]"
      ]
     },
     "execution_count": 207,
     "metadata": {},
     "output_type": "execute_result"
    }
   ],
   "source": [
    "plt.plot(h,Close, color = 'b')\n",
    "plt.plot(h,predClose[:-forecast_out] , color = 'r')\n",
    "plt.plot(m,predClose[-forecast_out:] , color = 'g')\n"
   ]
  },
  {
   "cell_type": "code",
   "execution_count": 206,
   "metadata": {},
   "outputs": [],
   "source": []
  },
  {
   "cell_type": "code",
   "execution_count": null,
   "metadata": {},
   "outputs": [],
   "source": []
  }
 ],
 "metadata": {
  "kernelspec": {
   "display_name": "Python 3",
   "language": "python",
   "name": "python3"
  },
  "language_info": {
   "codemirror_mode": {
    "name": "ipython",
    "version": 3
   },
   "file_extension": ".py",
   "mimetype": "text/x-python",
   "name": "python",
   "nbconvert_exporter": "python",
   "pygments_lexer": "ipython3",
   "version": "3.6.6"
  }
 },
 "nbformat": 4,
 "nbformat_minor": 1
}
